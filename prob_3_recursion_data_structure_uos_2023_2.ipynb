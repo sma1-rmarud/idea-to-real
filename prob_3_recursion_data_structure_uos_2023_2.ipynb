{
  "nbformat": 4,
  "nbformat_minor": 0,
  "metadata": {
    "colab": {
      "provenance": [],
      "include_colab_link": true
    },
    "kernelspec": {
      "name": "python3",
      "display_name": "Python 3"
    },
    "language_info": {
      "name": "python"
    }
  },
  "cells": [
    {
      "cell_type": "markdown",
      "metadata": {
        "id": "view-in-github",
        "colab_type": "text"
      },
      "source": [
        "<a href=\"https://colab.research.google.com/github/sma1-rmarud/idea-to-real/blob/main/prob_3_recursion_data_structure_uos_2023_2.ipynb\" target=\"_parent\"><img src=\"https://colab.research.google.com/assets/colab-badge.svg\" alt=\"Open In Colab\"/></a>"
      ]
    },
    {
      "cell_type": "code",
      "execution_count": 2,
      "metadata": {
        "id": "8K58a7R0uUPD"
      },
      "outputs": [],
      "source": [
        "def factorial(n):\n",
        "    if n == 0:\n",
        "        return 1\n",
        "    else:\n",
        "        return n*factorial(n-1)\n",
        "\n",
        "assert factorial(4) == 24\n",
        "assert factorial(5) == 120"
      ]
    },
    {
      "cell_type": "code",
      "source": [
        "from functools import reduce\n",
        "n = 4\n",
        "ans = reduce(lambda x: x, range(1,1+n,1), 1)\n",
        "assert ans == 24\n",
        "\n",
        "list(range(1,5,1))\n",
        "\n",
        "reduce(lambda x,y: x*y, range(1,5,1), 1)"
      ],
      "metadata": {
        "id": "6aj9dThrv00x"
      },
      "execution_count": null,
      "outputs": []
    },
    {
      "cell_type": "code",
      "source": [
        "def binary_search(data, target, i, j):\n",
        "  return False\n",
        "\n",
        "data = [1,2,3,5,6,8,9,14]\n",
        "assert binary_search(data, 3, 0, len(data)) == True\n"
      ],
      "metadata": {
        "id": "QN7gsCHkjmva"
      },
      "execution_count": null,
      "outputs": []
    },
    {
      "cell_type": "code",
      "source": [
        "import sys\n",
        "old = sys.getrecursionlimit( )\n",
        "print(old)\n",
        "sys.setrecursionlimit(200)"
      ],
      "metadata": {
        "id": "eANauqd40Z_Y"
      },
      "execution_count": null,
      "outputs": []
    },
    {
      "cell_type": "code",
      "source": [
        "def f(n=0):\n",
        "  print(n)\n",
        "  f(n+1)\n",
        "\n",
        "f()"
      ],
      "metadata": {
        "id": "Shf2o0lsLslL"
      },
      "execution_count": null,
      "outputs": []
    },
    {
      "cell_type": "code",
      "source": [
        "def linear_sum(data):\n",
        "  return 1\n",
        "\n",
        "assert linear_sum([1,2,3]) == 6"
      ],
      "metadata": {
        "id": "JdtQ_k25lpzU"
      },
      "execution_count": null,
      "outputs": []
    },
    {
      "cell_type": "code",
      "source": [
        "def reverse(data, i, j):\n",
        "  # inplace version\n",
        "\n",
        "def bad_reverse(data):\n",
        "  if len(data) == 1:\n",
        "    return [data[0]]\n",
        "\n",
        "  return bad_reverse(data[:-1]) + [data[-1]\n",
        "\n",
        "n = 10\n",
        "data = list(range(n))\n",
        "reverse(data,0,n-1)\n",
        "assert data == [9, 8, 7, 6, 5, 4, 3, 2, 1, 0]\n",
        "assert bad_reverse(data) == [9, 8, 7, 6, 5, 4, 3, 2, 1, 0]"
      ],
      "metadata": {
        "id": "kGHjOOYnT9PV"
      },
      "execution_count": null,
      "outputs": []
    },
    {
      "cell_type": "code",
      "source": [
        "%timeit -n 10 reverse(data, 0, n-1)"
      ],
      "metadata": {
        "id": "VLJI7CF_VFem"
      },
      "execution_count": null,
      "outputs": []
    },
    {
      "cell_type": "code",
      "source": [
        "%timeit -n 10 bad_reverse(data)"
      ],
      "metadata": {
        "id": "GeMO1Y8UY16R"
      },
      "execution_count": null,
      "outputs": []
    },
    {
      "cell_type": "code",
      "source": [
        "def power(x, n):\n",
        "  return 1\n",
        "\n",
        "\n",
        "assert power(2,8) == 256"
      ],
      "metadata": {
        "id": "JeOwxouEY7c5"
      },
      "execution_count": null,
      "outputs": []
    },
    {
      "cell_type": "code",
      "source": [
        "def binary_sum(data, i, j):\n",
        "  return 1\n",
        "\n",
        "assert 24 == binary_sum([0,1,2,3,4,5,6,7], 0, 8)"
      ],
      "metadata": {
        "id": "OiwNQMIRbZNI"
      },
      "execution_count": null,
      "outputs": []
    },
    {
      "cell_type": "code",
      "source": [
        "import math\n",
        "16/64 * math.log2(16) + 48/64 * math.log2(48)"
      ],
      "metadata": {
        "id": "fvGSC8L8y86c"
      },
      "execution_count": null,
      "outputs": []
    },
    {
      "cell_type": "code",
      "source": [
        "def draw(uticks, dticks):\n",
        "  return \"-\"\n",
        "\n",
        "r = draw(\"------\", \"------\")\n",
        "print(\"\\n\".join(r))\n",
        "\n",
        "\n"
      ],
      "metadata": {
        "id": "wNT7NvW5w31Z"
      },
      "execution_count": null,
      "outputs": []
    },
    {
      "cell_type": "code",
      "source": [
        "def binary_search(data, target, i, j):\n",
        "  if i >= j:\n",
        "    return False\n",
        "ㅏㅏ\n",
        "  m = (i + j) // 2\n",
        "  if target == data[m]:\n",
        "    return True\n",
        "  elif data[m] > target:\n",
        "    return binary_search(data, target, i, m)\n",
        "  else:\n",
        "    return binary_search(data, target, m+1, j)\n",
        "\n",
        "binary_search([0,1,2,2,4,5,6], 2, 0, 7)"
      ],
      "metadata": {
        "id": "IENr9j8kbRLP"
      },
      "execution_count": null,
      "outputs": []
    },
    {
      "cell_type": "code",
      "source": [
        "def binary_search_iterative(data, target):\n",
        "  if len(data) == 0:\n",
        "    return False\n",
        "\n",
        "  if len(data) == 1:\n",
        "    return data[0] == target\n",
        "  i = 0\n",
        "  j = len(data)\n",
        "  flag = False\n",
        "  while i < j:\n",
        "    m = (i+j) // 2\n",
        "    if target == data[m]:\n",
        "      flag = True\n",
        "      break\n",
        "\n",
        "    elif data[m] > target:\n",
        "      j = m\n",
        "    else:\n",
        "      i = m+1\n",
        "\n",
        "  return flag\n",
        "\n",
        "binary_search_iterative([0,1,2,2,4,5,6], 5)\n",
        "\n"
      ],
      "metadata": {
        "id": "k2v26n7DlGgP"
      },
      "execution_count": null,
      "outputs": []
    },
    {
      "cell_type": "code",
      "source": [
        "from pprint import pprint\n",
        "data = {\n",
        "  \"abc\": {\n",
        "      \"def\": [\"abc\", \"def\", \"foo\"],\n",
        "      \"foo\": {\n",
        "          \"foo\": {\n",
        "              \"bar\": [\n",
        "                  \"bar\",\n",
        "                  {\n",
        "                      \"key\": \"foo\"\n",
        "                  },\n",
        "              ],\n",
        "          }\n",
        "      }\n",
        "  },\n",
        "  \"def\": [1,2,3,4]\n",
        "}\n",
        "\n",
        "def capitalize_values(data):\n",
        "  if isinstance(data, str):\n",
        "    new_data = data.upper()\n",
        "  elif isinstance(data, list):\n",
        "    new_data = []\n",
        "    for x in data:\n",
        "      new_data.append(capitalize_values(x))\n",
        "  elif isinstance(data, dict):\n",
        "    new_data = {}\n",
        "    for k, v in data.items():\n",
        "      new_v = capitalize_values(v)\n",
        "      new_data[k] = new_v\n",
        "  else:\n",
        "    new_data = data\n",
        "  return new_data\n",
        "\n",
        "\n",
        "pprint(capitalize_values(data))\n",
        "\n",
        "\n",
        "\n",
        "\n"
      ],
      "metadata": {
        "id": "NpFjfCK0niKN"
      },
      "execution_count": null,
      "outputs": []
    },
    {
      "cell_type": "code",
      "source": [
        "import torch\n",
        "\n",
        "def net(vec, hdim):\n",
        "  if len(vec) <= hdim:\n",
        "    return vec\n",
        "\n",
        "  dim = len(vec)\n",
        "  layer_f = torch.nn.Linear(dim, dim-1)\n",
        "  new_vec = net(layer_f(vec), hdim)\n",
        "  layer_b = torch.nn.Linear(dim-1, dim)\n",
        "  return layer_b(new_vec)\n",
        "\n",
        "vec = torch.FloatTensor([1,2,3,4])\n",
        "net(vec, 2)\n",
        "\n"
      ],
      "metadata": {
        "id": "eej4ToY1g6G3"
      },
      "execution_count": null,
      "outputs": []
    },
    {
      "cell_type": "code",
      "source": [
        "vec"
      ],
      "metadata": {
        "id": "ngRT9-GWhScI"
      },
      "execution_count": null,
      "outputs": []
    },
    {
      "cell_type": "code",
      "source": [],
      "metadata": {
        "id": "QpdqqaS3hGvd"
      },
      "execution_count": null,
      "outputs": []
    },
    {
      "cell_type": "code",
      "source": [
        "def cnt_numbers(data, target_number):\n",
        "  cnt = 0\n",
        "  for x in data:\n",
        "    if x == target_number:\n",
        "      cnt += 1\n",
        "\n",
        "  return cnt\n",
        "\n",
        "\n",
        "def cnt_numbers_r(data, target_number):\n",
        "  if len(data) == 0:\n",
        "    return 0\n",
        "\n",
        "  cnt1 = int(target_number == data[0])\n",
        "  return cnt1 + cnt_numbers_r(data[1:], target_number)\n",
        "\n",
        "\n",
        "assert cnt_numbers([1,2,43,3,3,3,4,4,43], 43) == 2\n",
        "assert cnt_numbers_r([1,2,43,3,3,3,4,4,43], 43) == 2"
      ],
      "metadata": {
        "id": "5iO83O6shNQt"
      },
      "execution_count": null,
      "outputs": []
    }
  ]
}